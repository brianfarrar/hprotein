{
 "cells": [
  {
   "cell_type": "code",
   "execution_count": 1,
   "metadata": {},
   "outputs": [],
   "source": [
    "import pandas as pd"
   ]
  },
  {
   "cell_type": "code",
   "execution_count": 2,
   "metadata": {},
   "outputs": [],
   "source": [
    "BAD_IMAGES = '../stage1_labels/bad_images.csv'\n",
    "TRAINING_LIST = '../stage1_labels/train_combo.csv'\n",
    "LABEL_PATH = '../stage1_labels'\n",
    "LABEL_LIST = 'train_combo.csv'"
   ]
  },
  {
   "cell_type": "code",
   "execution_count": 3,
   "metadata": {},
   "outputs": [
    {
     "name": "stdout",
     "output_type": "stream",
     "text": [
      "6594\n"
     ]
    }
   ],
   "source": [
    "df_bad = pd.read_csv(BAD_IMAGES)\n",
    "df_bad.head(5)\n",
    "print(len(df_bad))"
   ]
  },
  {
   "cell_type": "code",
   "execution_count": 4,
   "metadata": {},
   "outputs": [
    {
     "name": "stdout",
     "output_type": "stream",
     "text": [
      "100446\n"
     ]
    }
   ],
   "source": [
    "df_train = pd.read_csv(TRAINING_LIST)\n",
    "df_train.head(5)\n",
    "print(len(df_train))"
   ]
  },
  {
   "cell_type": "code",
   "execution_count": 5,
   "metadata": {},
   "outputs": [
    {
     "name": "stdout",
     "output_type": "stream",
     "text": [
      "105391\n"
     ]
    }
   ],
   "source": [
    "df_new_train = pd.merge(df_bad, df_train, how='outer', on='Id')\n",
    "df_new_train.head(5)\n",
    "print(len(df_new_train))"
   ]
  },
  {
   "cell_type": "code",
   "execution_count": 6,
   "metadata": {},
   "outputs": [
    {
     "name": "stdout",
     "output_type": "stream",
     "text": [
      "[['1121cdf6-bb9a-11e8-b2b9-ac1f6b6435d0' '7']\n",
      " ['1121f8bc-bbbd-11e8-b2ba-ac1f6b6435d0' '3']\n",
      " ['112321ea-bb9c-11e8-b2b9-ac1f6b6435d0' '11']\n",
      " ['112395a6-bbb7-11e8-b2ba-ac1f6b6435d0' '0']]\n"
     ]
    }
   ],
   "source": [
    "df = pd.read_csv(LABEL_PATH + '/' + LABEL_LIST)\n",
    "example_list = df.values\n",
    "print(example_list[0:4])"
   ]
  },
  {
   "cell_type": "code",
   "execution_count": 7,
   "metadata": {},
   "outputs": [
    {
     "name": "stdout",
     "output_type": "stream",
     "text": [
      "['1121cdf6-bb9a-11e8-b2b9-ac1f6b6435d0' '7']\n"
     ]
    }
   ],
   "source": [
    "ex = example_list[0]\n",
    "print(ex)"
   ]
  },
  {
   "cell_type": "code",
   "execution_count": null,
   "metadata": {},
   "outputs": [],
   "source": []
  }
 ],
 "metadata": {
  "kernelspec": {
   "display_name": "Python 3",
   "language": "python",
   "name": "python3"
  },
  "language_info": {
   "codemirror_mode": {
    "name": "ipython",
    "version": 3
   },
   "file_extension": ".py",
   "mimetype": "text/x-python",
   "name": "python",
   "nbconvert_exporter": "python",
   "pygments_lexer": "ipython3",
   "version": "3.6.5"
  }
 },
 "nbformat": 4,
 "nbformat_minor": 2
}
