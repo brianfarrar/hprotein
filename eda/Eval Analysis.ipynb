{
 "cells": [
  {
   "cell_type": "code",
   "execution_count": 41,
   "metadata": {},
   "outputs": [],
   "source": [
    "import pandas as pd\n",
    "import numpy as np\n",
    "from tqdm import tqdm\n",
    "import math\n",
    "import os"
   ]
  },
  {
   "cell_type": "code",
   "execution_count": 42,
   "metadata": {},
   "outputs": [],
   "source": [
    "EVAL_FOLDER = '../eval'\n",
    "EVAL_FILE = '../eval/eval_model_kf4_9fb9ac_fc.csv'"
   ]
  },
  {
   "cell_type": "code",
   "execution_count": 43,
   "metadata": {},
   "outputs": [
    {
     "name": "stdout",
     "output_type": "stream",
     "text": [
      "24\n",
      "eval_model_kf4_9fb9ac_fc.csv\n",
      "eval_model_kf4_b58461_b2.csv\n",
      "eval_model_kf4_d6d1d9_34.csv\n",
      "eval_model_kf4_253ddf_66.csv\n",
      "eval_model_kf4_145404_85.csv\n",
      "eval_model_kf4_059637_87.csv\n",
      "eval_model_kf4_fcb630_ee.csv\n",
      "eval_model_kf4_059637_09.csv\n",
      "eval_model_kf4_059637_d7.csv\n",
      "eval_model_kf4_253ddf_14.csv\n",
      "eval_model_kf4_d6d1d9_bf.csv\n",
      "eval_model_kf4_6f1a27_da.csv\n",
      "eval_model_kf4_9fb9ac_cd.csv\n",
      "eval_model_kf4_b1a73d_23.csv\n",
      "eval_model_kf4_63fd5a_e4.csv\n",
      "eval_model_kf4_059637_0c.csv\n",
      "eval_model_kf4_b1a73d_d0.csv\n",
      "eval_model_kf4_fcb630_0b.csv\n",
      "eval_model_kf4_fdb9c2_52.csv\n",
      "eval_model_kf4_6f1a27_73.csv\n",
      "eval_model_kf4_145404_c8.csv\n",
      "eval_model_kf4_b58461_c8.csv\n",
      "eval_model_kf4_fdb9c2_83.csv\n",
      "eval_model_kf4_63fd5a_ba.csv\n"
     ]
    }
   ],
   "source": [
    "eval_file_list = [f for f in os.listdir(EVAL_FOLDER) if f.startswith(\"eval\")]\n",
    "print (len(eval_file_list))\n",
    "for f in eval_file_list:\n",
    "    print(f)"
   ]
  },
  {
   "cell_type": "code",
   "execution_count": 44,
   "metadata": {},
   "outputs": [
    {
     "data": {
      "text/html": [
       "<div>\n",
       "<style scoped>\n",
       "    .dataframe tbody tr th:only-of-type {\n",
       "        vertical-align: middle;\n",
       "    }\n",
       "\n",
       "    .dataframe tbody tr th {\n",
       "        vertical-align: top;\n",
       "    }\n",
       "\n",
       "    .dataframe thead th {\n",
       "        text-align: right;\n",
       "    }\n",
       "</style>\n",
       "<table border=\"1\" class=\"dataframe\">\n",
       "  <thead>\n",
       "    <tr style=\"text-align: right;\">\n",
       "      <th></th>\n",
       "      <th>Id</th>\n",
       "      <th>Ground_Truth</th>\n",
       "      <th>Predictions</th>\n",
       "    </tr>\n",
       "  </thead>\n",
       "  <tbody>\n",
       "    <tr>\n",
       "      <th>0</th>\n",
       "      <td>001838f8-bbca-11e8-b2bc-ac1f6b6435d0</td>\n",
       "      <td>18</td>\n",
       "      <td>18</td>\n",
       "    </tr>\n",
       "    <tr>\n",
       "      <th>1</th>\n",
       "      <td>003957a8-bbb7-11e8-b2ba-ac1f6b6435d0</td>\n",
       "      <td>25</td>\n",
       "      <td>0 16 25</td>\n",
       "    </tr>\n",
       "    <tr>\n",
       "      <th>2</th>\n",
       "      <td>003feb6e-bbca-11e8-b2bc-ac1f6b6435d0</td>\n",
       "      <td>0</td>\n",
       "      <td>0</td>\n",
       "    </tr>\n",
       "    <tr>\n",
       "      <th>3</th>\n",
       "      <td>004a2b84-bbc4-11e8-b2bc-ac1f6b6435d0</td>\n",
       "      <td>0 25</td>\n",
       "      <td>0 25</td>\n",
       "    </tr>\n",
       "    <tr>\n",
       "      <th>4</th>\n",
       "      <td>004f7c66-bb9b-11e8-b2b9-ac1f6b6435d0</td>\n",
       "      <td>25</td>\n",
       "      <td>25</td>\n",
       "    </tr>\n",
       "  </tbody>\n",
       "</table>\n",
       "</div>"
      ],
      "text/plain": [
       "                                     Id Ground_Truth Predictions\n",
       "0  001838f8-bbca-11e8-b2bc-ac1f6b6435d0           18          18\n",
       "1  003957a8-bbb7-11e8-b2ba-ac1f6b6435d0           25     0 16 25\n",
       "2  003feb6e-bbca-11e8-b2bc-ac1f6b6435d0            0           0\n",
       "3  004a2b84-bbc4-11e8-b2bc-ac1f6b6435d0         0 25        0 25\n",
       "4  004f7c66-bb9b-11e8-b2b9-ac1f6b6435d0           25          25"
      ]
     },
     "execution_count": 44,
     "metadata": {},
     "output_type": "execute_result"
    }
   ],
   "source": [
    "df_eval = pd.read_csv(EVAL_FILE)\n",
    "df_eval.head()"
   ]
  },
  {
   "cell_type": "code",
   "execution_count": 47,
   "metadata": {},
   "outputs": [
    {
     "data": {
      "text/html": [
       "<div>\n",
       "<style scoped>\n",
       "    .dataframe tbody tr th:only-of-type {\n",
       "        vertical-align: middle;\n",
       "    }\n",
       "\n",
       "    .dataframe tbody tr th {\n",
       "        vertical-align: top;\n",
       "    }\n",
       "\n",
       "    .dataframe thead th {\n",
       "        text-align: right;\n",
       "    }\n",
       "</style>\n",
       "<table border=\"1\" class=\"dataframe\">\n",
       "  <thead>\n",
       "    <tr style=\"text-align: right;\">\n",
       "      <th></th>\n",
       "      <th>Id</th>\n",
       "      <th>Ground_Truth</th>\n",
       "    </tr>\n",
       "  </thead>\n",
       "  <tbody>\n",
       "    <tr>\n",
       "      <th>0</th>\n",
       "      <td>001838f8-bbca-11e8-b2bc-ac1f6b6435d0</td>\n",
       "      <td>18</td>\n",
       "    </tr>\n",
       "    <tr>\n",
       "      <th>1</th>\n",
       "      <td>003957a8-bbb7-11e8-b2ba-ac1f6b6435d0</td>\n",
       "      <td>25</td>\n",
       "    </tr>\n",
       "    <tr>\n",
       "      <th>2</th>\n",
       "      <td>003feb6e-bbca-11e8-b2bc-ac1f6b6435d0</td>\n",
       "      <td>0</td>\n",
       "    </tr>\n",
       "    <tr>\n",
       "      <th>3</th>\n",
       "      <td>004a2b84-bbc4-11e8-b2bc-ac1f6b6435d0</td>\n",
       "      <td>0 25</td>\n",
       "    </tr>\n",
       "    <tr>\n",
       "      <th>4</th>\n",
       "      <td>004f7c66-bb9b-11e8-b2b9-ac1f6b6435d0</td>\n",
       "      <td>25</td>\n",
       "    </tr>\n",
       "  </tbody>\n",
       "</table>\n",
       "</div>"
      ],
      "text/plain": [
       "                                     Id Ground_Truth\n",
       "0  001838f8-bbca-11e8-b2bc-ac1f6b6435d0           18\n",
       "1  003957a8-bbb7-11e8-b2ba-ac1f6b6435d0           25\n",
       "2  003feb6e-bbca-11e8-b2bc-ac1f6b6435d0            0\n",
       "3  004a2b84-bbc4-11e8-b2bc-ac1f6b6435d0         0 25\n",
       "4  004f7c66-bb9b-11e8-b2b9-ac1f6b6435d0           25"
      ]
     },
     "execution_count": 47,
     "metadata": {},
     "output_type": "execute_result"
    }
   ],
   "source": [
    "df_gt = df_eval[['Id','Ground_Truth']].copy()\n",
    "df_gt.head()"
   ]
  },
  {
   "cell_type": "code",
   "execution_count": 48,
   "metadata": {},
   "outputs": [
    {
     "data": {
      "text/html": [
       "<div>\n",
       "<style scoped>\n",
       "    .dataframe tbody tr th:only-of-type {\n",
       "        vertical-align: middle;\n",
       "    }\n",
       "\n",
       "    .dataframe tbody tr th {\n",
       "        vertical-align: top;\n",
       "    }\n",
       "\n",
       "    .dataframe thead th {\n",
       "        text-align: right;\n",
       "    }\n",
       "</style>\n",
       "<table border=\"1\" class=\"dataframe\">\n",
       "  <thead>\n",
       "    <tr style=\"text-align: right;\">\n",
       "      <th></th>\n",
       "      <th>Id</th>\n",
       "      <th>Predictions</th>\n",
       "    </tr>\n",
       "  </thead>\n",
       "  <tbody>\n",
       "    <tr>\n",
       "      <th>0</th>\n",
       "      <td>001838f8-bbca-11e8-b2bc-ac1f6b6435d0</td>\n",
       "      <td>18</td>\n",
       "    </tr>\n",
       "    <tr>\n",
       "      <th>1</th>\n",
       "      <td>003957a8-bbb7-11e8-b2ba-ac1f6b6435d0</td>\n",
       "      <td>0 16 25</td>\n",
       "    </tr>\n",
       "    <tr>\n",
       "      <th>2</th>\n",
       "      <td>003feb6e-bbca-11e8-b2bc-ac1f6b6435d0</td>\n",
       "      <td>0</td>\n",
       "    </tr>\n",
       "    <tr>\n",
       "      <th>3</th>\n",
       "      <td>004a2b84-bbc4-11e8-b2bc-ac1f6b6435d0</td>\n",
       "      <td>0 25</td>\n",
       "    </tr>\n",
       "    <tr>\n",
       "      <th>4</th>\n",
       "      <td>004f7c66-bb9b-11e8-b2b9-ac1f6b6435d0</td>\n",
       "      <td>25</td>\n",
       "    </tr>\n",
       "  </tbody>\n",
       "</table>\n",
       "</div>"
      ],
      "text/plain": [
       "                                     Id Predictions\n",
       "0  001838f8-bbca-11e8-b2bc-ac1f6b6435d0          18\n",
       "1  003957a8-bbb7-11e8-b2ba-ac1f6b6435d0     0 16 25\n",
       "2  003feb6e-bbca-11e8-b2bc-ac1f6b6435d0           0\n",
       "3  004a2b84-bbc4-11e8-b2bc-ac1f6b6435d0        0 25\n",
       "4  004f7c66-bb9b-11e8-b2b9-ac1f6b6435d0          25"
      ]
     },
     "execution_count": 48,
     "metadata": {},
     "output_type": "execute_result"
    }
   ],
   "source": [
    "df_pred = df_eval[['Id','Predictions']].copy()\n",
    "df_pred.head()"
   ]
  },
  {
   "cell_type": "code",
   "execution_count": 49,
   "metadata": {},
   "outputs": [
    {
     "name": "stdout",
     "output_type": "stream",
     "text": [
      "(28,)\n",
      "[0. 0. 0. 0. 0. 0. 0. 0. 0. 0. 0. 0. 0. 0. 0. 0. 0. 0. 0. 0. 0. 0. 0. 1.\n",
      " 1. 0. 0. 0.]\n",
      "(28,)\n",
      "[0. 0. 0. 0. 0. 0. 0. 0. 0. 0. 0. 0. 0. 0. 0. 0. 0. 0. 0. 0. 0. 0. 0. 0.\n",
      " 1. 0. 0. 0.]\n"
     ]
    }
   ],
   "source": [
    "def make_label_array (labels):\n",
    "\n",
    "    # set up a numpy array to receive the encoded label\n",
    "    label_array = np.zeros(28)\n",
    "\n",
    "    if isinstance(labels, str):\n",
    "    \n",
    "        # split the space separated multi-label into a list of individual labels\n",
    "        split_label = labels.split(' ')\n",
    "\n",
    "        # turn on the positive columns in the labels array\n",
    "        for label in split_label:\n",
    "            label_array[np.uint8(label)] = 1\n",
    "    \n",
    "    return label_array\n",
    "    \n",
    "# unit test \n",
    "la = make_label_array(df_gt['Ground_Truth'][52])\n",
    "p = make_label_array(df_pred['Predictions'][52])\n",
    "print(la.shape)\n",
    "print(la)\n",
    "print(p.shape)\n",
    "print(p)\n"
   ]
  },
  {
   "cell_type": "code",
   "execution_count": 55,
   "metadata": {},
   "outputs": [
    {
     "data": {
      "text/plain": [
       "(array([7.98398836e-01, 7.15789474e-01, 6.35616438e-01, 4.74820144e-01,\n",
       "        5.67441860e-01, 6.03550296e-01, 3.95348837e-01, 5.83061889e-01,\n",
       "        5.00000000e-01, 3.33333333e-01, 2.00000000e-01, 5.67010309e-01,\n",
       "        2.81553398e-01, 3.13953488e-01, 8.42592593e-01, 1.08108108e-02,\n",
       "        1.01449275e-01, 6.97674419e-02, 4.00000000e-01, 4.45454545e-01,\n",
       "        3.33333333e-01, 4.27574171e-01, 3.94736842e-01, 6.20481928e-01,\n",
       "        6.25000000e-01, 5.68115942e-01, 1.89189189e-01, 6.31313131e-04]),\n",
       " array([0.84710425, 0.56666667, 0.63736264, 0.40993789, 0.67777778,\n",
       "        0.40316206, 0.45535714, 0.62587413, 0.25      , 0.33333333,\n",
       "        0.5       , 0.47413793, 0.453125  , 0.47368421, 0.82727273,\n",
       "        1.        , 0.125     , 0.31578947, 0.34042553, 0.32236842,\n",
       "        0.28571429, 0.70200573, 0.36585366, 0.65814696, 0.3030303 ,\n",
       "        0.71532847, 0.2       , 1.        ]),\n",
       " array([0.82203072, 0.63255814, 0.63648834, 0.44      , 0.61772152,\n",
       "        0.48341232, 0.42323651, 0.60370995, 0.33333333, 0.33333333,\n",
       "        0.28571429, 0.51643192, 0.34730539, 0.37762238, 0.83486239,\n",
       "        0.02139037, 0.112     , 0.11428571, 0.36781609, 0.3740458 ,\n",
       "        0.30769231, 0.53145336, 0.37974684, 0.63875969, 0.40816327,\n",
       "        0.63327948, 0.19444444, 0.00126183]),\n",
       " array([1295.,  120.,  364.,  161.,  180.,  253.,  112.,  286.,    4.,\n",
       "           3.,    2.,  116.,   64.,   57.,  110.,    4.,   56.,   19.,\n",
       "          94.,  152.,   14.,  349.,   82.,  313.,   33.,  822.,   35.,\n",
       "           2.]))"
      ]
     },
     "execution_count": 55,
     "metadata": {},
     "output_type": "execute_result"
    }
   ],
   "source": [
    "def print_statistics(df_eval, df_gt, df_pred):\n",
    "    \n",
    "    tp = np.zeros(28)\n",
    "    fp = np.zeros(28)\n",
    "    tn = np.zeros(28)\n",
    "    fn = np.zeros(28)\n",
    "    count = np.zeros(28) \n",
    "    for i in range(len(df_eval)):\n",
    "        gt = make_label_array(df_gt['Ground_Truth'][i])\n",
    "        pred = make_label_array(df_pred['Predictions'][i])\n",
    "        tp += gt * pred\n",
    "        tn += (1 - gt) * (1 - pred)\n",
    "        fp += (1 - gt) * pred\n",
    "        fn += gt * (1 - pred)\n",
    "        count += gt\n",
    "\n",
    "    precision = tp / (tp + fp)\n",
    "    recall = tp / (tp + fn)\n",
    "    f1 = 2 * (precision * recall) / (precision + recall)\n",
    "    '''\n",
    "    print(' lbl   prec     recall   f1')\n",
    "    for i in range(28):\n",
    "        if f1[i] < 0.7:\n",
    "            print('[{:2}]   {:.3f}    {:.3f}    {:.3f}'.format(i, precision[i], recall[i], f1[i]))\n",
    "    '''\n",
    "    return precision, recall, f1, count\n",
    "            \n",
    "# unit test\n",
    "print_statistics(df_eval, df_gt, df_pred)"
   ]
  },
  {
   "cell_type": "code",
   "execution_count": 51,
   "metadata": {},
   "outputs": [
    {
     "name": "stdout",
     "output_type": "stream",
     "text": [
      "../eval/eval_model_kf4_9fb9ac_fc.csv\n",
      "kf4_9fb9ac_fc.cs\n"
     ]
    }
   ],
   "source": [
    "print(EVAL_FOLDER + '/' + eval_file_list[0])\n",
    "df_eval = pd.read_csv(EVAL_FOLDER + '/' + EVAL_FILE)\n",
    "tmp = EVAL_FOLDER + '/' + eval_file_list[0]\n",
    "tmp = tmp.split('_',2)[2][:16]\n",
    "print(tmp)"
   ]
  },
  {
   "cell_type": "code",
   "execution_count": 54,
   "metadata": {},
   "outputs": [
    {
     "name": "stderr",
     "output_type": "stream",
     "text": [
      "100%|██████████| 24/24 [00:06<00:00,  3.60it/s]\n"
     ]
    },
    {
     "data": {
      "text/html": [
       "<div>\n",
       "<style scoped>\n",
       "    .dataframe tbody tr th:only-of-type {\n",
       "        vertical-align: middle;\n",
       "    }\n",
       "\n",
       "    .dataframe tbody tr th {\n",
       "        vertical-align: top;\n",
       "    }\n",
       "\n",
       "    .dataframe thead th {\n",
       "        text-align: right;\n",
       "    }\n",
       "</style>\n",
       "<table border=\"1\" class=\"dataframe\">\n",
       "  <thead>\n",
       "    <tr style=\"text-align: right;\">\n",
       "      <th></th>\n",
       "      <th>0</th>\n",
       "      <th>1</th>\n",
       "      <th>2</th>\n",
       "      <th>3</th>\n",
       "    </tr>\n",
       "  </thead>\n",
       "  <tbody>\n",
       "    <tr>\n",
       "      <th>0</th>\n",
       "      <td>[eval_model_kf4_9fb9ac_fc.csv]</td>\n",
       "      <td>[0.7932659932659932, 0.8245614035087719, 0.788...</td>\n",
       "      <td>[0.9096525096525097, 0.7833333333333333, 0.769...</td>\n",
       "      <td>[0.8474820143884892, 0.8034188034188033, 0.778...</td>\n",
       "    </tr>\n",
       "    <tr>\n",
       "      <th>1</th>\n",
       "      <td>[eval_model_kf4_b58461_b2.csv]</td>\n",
       "      <td>[0.7935528120713305, 0.8205128205128205, 0.801...</td>\n",
       "      <td>[0.8934362934362934, 0.8, 0.7335164835164835, ...</td>\n",
       "      <td>[0.8405375953505265, 0.810126582278481, 0.7661...</td>\n",
       "    </tr>\n",
       "    <tr>\n",
       "      <th>2</th>\n",
       "      <td>[eval_model_kf4_d6d1d9_34.csv]</td>\n",
       "      <td>[0.8253400143163923, 0.9238095238095239, 0.828...</td>\n",
       "      <td>[0.8903474903474904, 0.8083333333333333, 0.782...</td>\n",
       "      <td>[0.8566121842496285, 0.8622222222222223, 0.805...</td>\n",
       "    </tr>\n",
       "    <tr>\n",
       "      <th>3</th>\n",
       "      <td>[eval_model_kf4_253ddf_66.csv]</td>\n",
       "      <td>[0.8124076809453471, 0.8431372549019608, 0.733...</td>\n",
       "      <td>[0.8494208494208494, 0.7166666666666667, 0.711...</td>\n",
       "      <td>[0.8305020762551906, 0.7747747747747747, 0.722...</td>\n",
       "    </tr>\n",
       "    <tr>\n",
       "      <th>4</th>\n",
       "      <td>[eval_model_kf4_145404_85.csv]</td>\n",
       "      <td>[0.8069686411149826, 0.8392857142857143, 0.844...</td>\n",
       "      <td>[0.8942084942084942, 0.7833333333333333, 0.763...</td>\n",
       "      <td>[0.8483516483516483, 0.8103448275862069, 0.802...</td>\n",
       "    </tr>\n",
       "  </tbody>\n",
       "</table>\n",
       "</div>"
      ],
      "text/plain": [
       "                                0  \\\n",
       "0  [eval_model_kf4_9fb9ac_fc.csv]   \n",
       "1  [eval_model_kf4_b58461_b2.csv]   \n",
       "2  [eval_model_kf4_d6d1d9_34.csv]   \n",
       "3  [eval_model_kf4_253ddf_66.csv]   \n",
       "4  [eval_model_kf4_145404_85.csv]   \n",
       "\n",
       "                                                   1  \\\n",
       "0  [0.7932659932659932, 0.8245614035087719, 0.788...   \n",
       "1  [0.7935528120713305, 0.8205128205128205, 0.801...   \n",
       "2  [0.8253400143163923, 0.9238095238095239, 0.828...   \n",
       "3  [0.8124076809453471, 0.8431372549019608, 0.733...   \n",
       "4  [0.8069686411149826, 0.8392857142857143, 0.844...   \n",
       "\n",
       "                                                   2  \\\n",
       "0  [0.9096525096525097, 0.7833333333333333, 0.769...   \n",
       "1  [0.8934362934362934, 0.8, 0.7335164835164835, ...   \n",
       "2  [0.8903474903474904, 0.8083333333333333, 0.782...   \n",
       "3  [0.8494208494208494, 0.7166666666666667, 0.711...   \n",
       "4  [0.8942084942084942, 0.7833333333333333, 0.763...   \n",
       "\n",
       "                                                   3  \n",
       "0  [0.8474820143884892, 0.8034188034188033, 0.778...  \n",
       "1  [0.8405375953505265, 0.810126582278481, 0.7661...  \n",
       "2  [0.8566121842496285, 0.8622222222222223, 0.805...  \n",
       "3  [0.8305020762551906, 0.7747747747747747, 0.722...  \n",
       "4  [0.8483516483516483, 0.8103448275862069, 0.802...  "
      ]
     },
     "execution_count": 54,
     "metadata": {},
     "output_type": "execute_result"
    }
   ],
   "source": [
    "statistics = []\n",
    "\n",
    "for eval_file in tqdm(eval_file_list):\n",
    "    \n",
    "    # load data\n",
    "    df_eval = pd.read_csv(EVAL_FOLDER + '/' + eval_file)\n",
    "    \n",
    "    # create ground_truth data\n",
    "    df_gt = df_eval[['Id','Ground_Truth']].copy()\n",
    "    \n",
    "    # create prediction data\n",
    "    df_pred = df_eval[['Id','Predictions']].copy()\n",
    "    \n",
    "    #print('-----  Model Results for: {} -----'.format(eval_file))\n",
    "    precision, recall, f1, _ = print_statistics(df_eval, df_gt, df_pred)\n",
    "    #print(precision.shape)\n",
    "    #print(recall.shape)\n",
    "    #print(f1.shape)\n",
    "    \n",
    "    statistics.append([[eval_file], precision, recall, f1])\n",
    "\n",
    "df_statistics = pd.DataFrame(np.array(statistics))\n",
    "df_statistics.to_csv('../eval/statistics.csv', index=False, header=['model','precision','recall','f1'])\n",
    "df_statistics.head()\n",
    "    "
   ]
  },
  {
   "cell_type": "code",
   "execution_count": null,
   "metadata": {},
   "outputs": [],
   "source": []
  }
 ],
 "metadata": {
  "kernelspec": {
   "display_name": "Python 3",
   "language": "python",
   "name": "python3"
  },
  "language_info": {
   "codemirror_mode": {
    "name": "ipython",
    "version": 3
   },
   "file_extension": ".py",
   "mimetype": "text/x-python",
   "name": "python",
   "nbconvert_exporter": "python",
   "pygments_lexer": "ipython3",
   "version": "3.6.5"
  }
 },
 "nbformat": 4,
 "nbformat_minor": 2
}
