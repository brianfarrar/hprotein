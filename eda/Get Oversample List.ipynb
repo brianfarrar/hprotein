{
 "cells": [
  {
   "cell_type": "code",
   "execution_count": 1,
   "metadata": {},
   "outputs": [
    {
     "name": "stderr",
     "output_type": "stream",
     "text": [
      "/Users/farrar/py3.6.5/lib/python3.6/site-packages/h5py/__init__.py:36: FutureWarning: Conversion of the second argument of issubdtype from `float` to `np.floating` is deprecated. In future, it will be treated as `np.float64 == np.dtype(float).type`.\n",
      "  from ._conv import register_converters as _register_converters\n",
      "Using TensorFlow backend.\n"
     ]
    }
   ],
   "source": [
    "import numpy as np\n",
    "import pandas as pd\n",
    "from tqdm import tqdm\n",
    "import hprotein"
   ]
  },
  {
   "cell_type": "code",
   "execution_count": 6,
   "metadata": {},
   "outputs": [],
   "source": [
    "# constants\n",
    "LABEL_PATH = '../stage1_labels/new_train_combo.csv'\n",
    "TRAIN_PATH = '../stage1_train'"
   ]
  },
  {
   "cell_type": "code",
   "execution_count": 7,
   "metadata": {},
   "outputs": [
    {
     "name": "stdout",
     "output_type": "stream",
     "text": [
      "['1121cdf6-bb9a-11e8-b2b9-ac1f6b6435d0'\n",
      " '1121f8bc-bbbd-11e8-b2ba-ac1f6b6435d0'\n",
      " '112321ea-bb9c-11e8-b2b9-ac1f6b6435d0'\n",
      " '112395a6-bbb7-11e8-b2ba-ac1f6b6435d0'\n",
      " '1125d736-bba7-11e8-b2ba-ac1f6b6435d0']\n"
     ]
    }
   ],
   "source": [
    "specimen_ids = hprotein.get_specimen_ids('../stage1_labels', 'new_train_combo.csv')\n",
    "print(specimen_ids[0:5])"
   ]
  },
  {
   "cell_type": "code",
   "execution_count": 8,
   "metadata": {},
   "outputs": [
    {
     "data": {
      "text/html": [
       "<div>\n",
       "<style scoped>\n",
       "    .dataframe tbody tr th:only-of-type {\n",
       "        vertical-align: middle;\n",
       "    }\n",
       "\n",
       "    .dataframe tbody tr th {\n",
       "        vertical-align: top;\n",
       "    }\n",
       "\n",
       "    .dataframe thead th {\n",
       "        text-align: right;\n",
       "    }\n",
       "</style>\n",
       "<table border=\"1\" class=\"dataframe\">\n",
       "  <thead>\n",
       "    <tr style=\"text-align: right;\">\n",
       "      <th></th>\n",
       "      <th>Id</th>\n",
       "      <th>Target</th>\n",
       "    </tr>\n",
       "  </thead>\n",
       "  <tbody>\n",
       "    <tr>\n",
       "      <th>0</th>\n",
       "      <td>1121cdf6-bb9a-11e8-b2b9-ac1f6b6435d0</td>\n",
       "      <td>7</td>\n",
       "    </tr>\n",
       "    <tr>\n",
       "      <th>1</th>\n",
       "      <td>1121f8bc-bbbd-11e8-b2ba-ac1f6b6435d0</td>\n",
       "      <td>3</td>\n",
       "    </tr>\n",
       "    <tr>\n",
       "      <th>2</th>\n",
       "      <td>112321ea-bb9c-11e8-b2b9-ac1f6b6435d0</td>\n",
       "      <td>11</td>\n",
       "    </tr>\n",
       "    <tr>\n",
       "      <th>3</th>\n",
       "      <td>112395a6-bbb7-11e8-b2ba-ac1f6b6435d0</td>\n",
       "      <td>0</td>\n",
       "    </tr>\n",
       "    <tr>\n",
       "      <th>4</th>\n",
       "      <td>1125d736-bba7-11e8-b2ba-ac1f6b6435d0</td>\n",
       "      <td>25 0</td>\n",
       "    </tr>\n",
       "  </tbody>\n",
       "</table>\n",
       "</div>"
      ],
      "text/plain": [
       "                                     Id Target\n",
       "0  1121cdf6-bb9a-11e8-b2b9-ac1f6b6435d0      7\n",
       "1  1121f8bc-bbbd-11e8-b2ba-ac1f6b6435d0      3\n",
       "2  112321ea-bb9c-11e8-b2b9-ac1f6b6435d0     11\n",
       "3  112395a6-bbb7-11e8-b2ba-ac1f6b6435d0      0\n",
       "4  1125d736-bba7-11e8-b2ba-ac1f6b6435d0   25 0"
      ]
     },
     "execution_count": 8,
     "metadata": {},
     "output_type": "execute_result"
    }
   ],
   "source": [
    "df = pd.read_csv(LABEL_PATH)\n",
    "df.head()"
   ]
  },
  {
   "cell_type": "code",
   "execution_count": 9,
   "metadata": {},
   "outputs": [
    {
     "data": {
      "text/plain": [
       "\"\\nsparse_examples = ['8','9','10','15','27','13']\\ncounts = np.zeros(len(sparse_examples))\\nover_sample_list = []\\n\\nsplit_labels = (df.loc[df['Id'] == '10580_1610_C1_1'])['Target'].str.split(' ')\\nfor label in split_labels:\\n    for item in label:\\n        if item in sparse_examples:\\n            list_item = df.loc[df['Id'] == specimen_id].values\\n            over_sample_list.append([list_item[0][0], list_item[0][1]])\\n            for i, ex in enumerate(sparse_examples):\\n                if ex == item:\\n                    counts[i] += 1\\nprint(counts)\\n\""
      ]
     },
     "execution_count": 9,
     "metadata": {},
     "output_type": "execute_result"
    }
   ],
   "source": [
    "'''\n",
    "sparse_examples = ['8','9','10','15','27','13']\n",
    "counts = np.zeros(len(sparse_examples))\n",
    "over_sample_list = []\n",
    "\n",
    "split_labels = (df.loc[df['Id'] == '10580_1610_C1_1'])['Target'].str.split(' ')\n",
    "for label in split_labels:\n",
    "    for item in label:\n",
    "        if item in sparse_examples:\n",
    "            list_item = df.loc[df['Id'] == specimen_id].values\n",
    "            over_sample_list.append([list_item[0][0], list_item[0][1]])\n",
    "            for i, ex in enumerate(sparse_examples):\n",
    "                if ex == item:\n",
    "                    counts[i] += 1\n",
    "print(counts)\n",
    "'''"
   ]
  },
  {
   "cell_type": "code",
   "execution_count": 10,
   "metadata": {},
   "outputs": [
    {
     "name": "stderr",
     "output_type": "stream",
     "text": [
      "100%|██████████| 127781/127781 [25:28<00:00, 83.59it/s]\n"
     ]
    }
   ],
   "source": [
    "sparse_examples = ['8','9','10','15','27']\n",
    "counts = np.zeros(len(sparse_examples))\n",
    "over_sample_list = []\n",
    "for specimen_id in tqdm(specimen_ids):\n",
    "    split_labels = (df.loc[df['Id'] == specimen_id])['Target'].str.split(' ')\n",
    "    for label in split_labels:\n",
    "        for item in label:\n",
    "            if item in sparse_examples:\n",
    "                list_item = df.loc[df['Id'] == specimen_id].values\n",
    "                over_sample_list.append([item, list_item[0][0], list_item[0][1]])\n"
   ]
  },
  {
   "cell_type": "code",
   "execution_count": 11,
   "metadata": {},
   "outputs": [
    {
     "name": "stdout",
     "output_type": "stream",
     "text": [
      "1190\n",
      "[['8', '16628772-bba1-11e8-b2b9-ac1f6b6435d0', '0 8'], ['8', '16628772-bba1-11e8-b2b9-ac1f6b6435d0', '0 8'], ['27', '18df69fc-bbb5-11e8-b2ba-ac1f6b6435d0', '5 0 27'], ['27', '18df69fc-bbb5-11e8-b2ba-ac1f6b6435d0', '5 0 27']]\n"
     ]
    }
   ],
   "source": [
    "print(len(over_sample_list))\n",
    "print(over_sample_list[0:4])"
   ]
  },
  {
   "cell_type": "code",
   "execution_count": 12,
   "metadata": {},
   "outputs": [
    {
     "name": "stdout",
     "output_type": "stream",
     "text": [
      "8 -> 358.0\n",
      "9 -> 320.0\n",
      "10 -> 247.0\n",
      "15 -> 126.0\n",
      "27 -> 139.0\n"
     ]
    }
   ],
   "source": [
    "for item in over_sample_list:\n",
    "    for i, ex in enumerate(sparse_examples):\n",
    "        if item[0] == ex:\n",
    "            counts[i] += 1\n",
    "            \n",
    "for row in zip(sparse_examples, counts):\n",
    "    print('{} -> {}'.format(row[0], row[1]))\n",
    "    \n",
    "    "
   ]
  },
  {
   "cell_type": "code",
   "execution_count": 13,
   "metadata": {},
   "outputs": [
    {
     "name": "stdout",
     "output_type": "stream",
     "text": [
      "(1190, 3)\n",
      "[['8' '16628772-bba1-11e8-b2b9-ac1f6b6435d0' '0 8']\n",
      " ['8' '16628772-bba1-11e8-b2b9-ac1f6b6435d0' '0 8']\n",
      " ['27' '18df69fc-bbb5-11e8-b2ba-ac1f6b6435d0' '5 0 27']\n",
      " ['27' '18df69fc-bbb5-11e8-b2ba-ac1f6b6435d0' '5 0 27']]\n"
     ]
    }
   ],
   "source": [
    "over_sample_count = np.array([3,3,5,8,8])\n",
    "osl = np.asarray(over_sample_list)\n",
    "print (osl.shape)\n",
    "print (osl[0:4])"
   ]
  },
  {
   "cell_type": "code",
   "execution_count": 14,
   "metadata": {},
   "outputs": [
    {
     "name": "stdout",
     "output_type": "stream",
     "text": [
      "(358, 2)\n"
     ]
    }
   ],
   "source": [
    "a = (osl[osl[:,0]=='8'])\n",
    "shape = a[:,1:].shape\n",
    "print(shape)"
   ]
  },
  {
   "cell_type": "code",
   "execution_count": 15,
   "metadata": {},
   "outputs": [
    {
     "name": "stdout",
     "output_type": "stream",
     "text": [
      "(0, 2)\n"
     ]
    }
   ],
   "source": [
    "final_over_sample_list = np.empty((0,2))\n",
    "print(final_over_sample_list.shape)"
   ]
  },
  {
   "cell_type": "code",
   "execution_count": 16,
   "metadata": {},
   "outputs": [
    {
     "name": "stdout",
     "output_type": "stream",
     "text": [
      "(1074, 2)\n",
      "(2034, 2)\n",
      "(3269, 2)\n",
      "(4277, 2)\n",
      "(5389, 2)\n"
     ]
    }
   ],
   "source": [
    "for row in zip(over_sample_count, sparse_examples):\n",
    "    a = osl[osl[:,0]==row[1]]\n",
    "    for i in range(row[0]):\n",
    "        final_over_sample_list = np.append(final_over_sample_list, a[:,1:], axis=0)\n",
    "    print(final_over_sample_list.shape)"
   ]
  },
  {
   "cell_type": "code",
   "execution_count": 17,
   "metadata": {},
   "outputs": [
    {
     "name": "stdout",
     "output_type": "stream",
     "text": [
      "[['16628772-bba1-11e8-b2b9-ac1f6b6435d0' '0 8']\n",
      " ['16628772-bba1-11e8-b2b9-ac1f6b6435d0' '0 8']\n",
      " ['1900d278-bbc3-11e8-b2bc-ac1f6b6435d0' '8']\n",
      " ['1900d278-bbc3-11e8-b2bc-ac1f6b6435d0' '8']\n",
      " ['2b538cdc-bb9a-11e8-b2b9-ac1f6b6435d0' '8']]\n"
     ]
    }
   ],
   "source": [
    "print(final_over_sample_list[0:5])"
   ]
  },
  {
   "cell_type": "code",
   "execution_count": 18,
   "metadata": {},
   "outputs": [
    {
     "data": {
      "text/html": [
       "<div>\n",
       "<style scoped>\n",
       "    .dataframe tbody tr th:only-of-type {\n",
       "        vertical-align: middle;\n",
       "    }\n",
       "\n",
       "    .dataframe tbody tr th {\n",
       "        vertical-align: top;\n",
       "    }\n",
       "\n",
       "    .dataframe thead th {\n",
       "        text-align: right;\n",
       "    }\n",
       "</style>\n",
       "<table border=\"1\" class=\"dataframe\">\n",
       "  <thead>\n",
       "    <tr style=\"text-align: right;\">\n",
       "      <th></th>\n",
       "      <th>0</th>\n",
       "      <th>1</th>\n",
       "    </tr>\n",
       "  </thead>\n",
       "  <tbody>\n",
       "    <tr>\n",
       "      <th>0</th>\n",
       "      <td>16628772-bba1-11e8-b2b9-ac1f6b6435d0</td>\n",
       "      <td>0 8</td>\n",
       "    </tr>\n",
       "    <tr>\n",
       "      <th>1</th>\n",
       "      <td>16628772-bba1-11e8-b2b9-ac1f6b6435d0</td>\n",
       "      <td>0 8</td>\n",
       "    </tr>\n",
       "    <tr>\n",
       "      <th>2</th>\n",
       "      <td>1900d278-bbc3-11e8-b2bc-ac1f6b6435d0</td>\n",
       "      <td>8</td>\n",
       "    </tr>\n",
       "    <tr>\n",
       "      <th>3</th>\n",
       "      <td>1900d278-bbc3-11e8-b2bc-ac1f6b6435d0</td>\n",
       "      <td>8</td>\n",
       "    </tr>\n",
       "    <tr>\n",
       "      <th>4</th>\n",
       "      <td>2b538cdc-bb9a-11e8-b2b9-ac1f6b6435d0</td>\n",
       "      <td>8</td>\n",
       "    </tr>\n",
       "  </tbody>\n",
       "</table>\n",
       "</div>"
      ],
      "text/plain": [
       "                                      0    1\n",
       "0  16628772-bba1-11e8-b2b9-ac1f6b6435d0  0 8\n",
       "1  16628772-bba1-11e8-b2b9-ac1f6b6435d0  0 8\n",
       "2  1900d278-bbc3-11e8-b2bc-ac1f6b6435d0    8\n",
       "3  1900d278-bbc3-11e8-b2bc-ac1f6b6435d0    8\n",
       "4  2b538cdc-bb9a-11e8-b2b9-ac1f6b6435d0    8"
      ]
     },
     "execution_count": 18,
     "metadata": {},
     "output_type": "execute_result"
    }
   ],
   "source": [
    "df = pd.DataFrame(final_over_sample_list)\n",
    "df.to_csv('../stage1_labels/over_sample.csv', index=False, header=['Id','Target'])\n",
    "df.head(5)"
   ]
  },
  {
   "cell_type": "code",
   "execution_count": null,
   "metadata": {},
   "outputs": [],
   "source": []
  }
 ],
 "metadata": {
  "kernelspec": {
   "display_name": "Python 3",
   "language": "python",
   "name": "python3"
  },
  "language_info": {
   "codemirror_mode": {
    "name": "ipython",
    "version": 3
   },
   "file_extension": ".py",
   "mimetype": "text/x-python",
   "name": "python",
   "nbconvert_exporter": "python",
   "pygments_lexer": "ipython3",
   "version": "3.6.5"
  }
 },
 "nbformat": 4,
 "nbformat_minor": 2
}
