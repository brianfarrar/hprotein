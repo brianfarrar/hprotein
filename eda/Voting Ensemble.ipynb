{
 "cells": [
  {
   "cell_type": "code",
   "execution_count": 1,
   "metadata": {},
   "outputs": [],
   "source": [
    "import pandas as pd\n",
    "import numpy as np\n",
    "from tqdm import tqdm\n",
    "import math\n",
    "import os"
   ]
  },
  {
   "cell_type": "code",
   "execution_count": 2,
   "metadata": {},
   "outputs": [],
   "source": [
    "SUBMIT_FOLDER = \"../stage1_submit\""
   ]
  },
  {
   "cell_type": "code",
   "execution_count": 3,
   "metadata": {},
   "outputs": [
    {
     "data": {
      "text/html": [
       "<div>\n",
       "<style scoped>\n",
       "    .dataframe tbody tr th:only-of-type {\n",
       "        vertical-align: middle;\n",
       "    }\n",
       "\n",
       "    .dataframe tbody tr th {\n",
       "        vertical-align: top;\n",
       "    }\n",
       "\n",
       "    .dataframe thead th {\n",
       "        text-align: right;\n",
       "    }\n",
       "</style>\n",
       "<table border=\"1\" class=\"dataframe\">\n",
       "  <thead>\n",
       "    <tr style=\"text-align: right;\">\n",
       "      <th></th>\n",
       "      <th>Id</th>\n",
       "      <th>Predicted</th>\n",
       "    </tr>\n",
       "  </thead>\n",
       "  <tbody>\n",
       "    <tr>\n",
       "      <th>0</th>\n",
       "      <td>00008af0-bad0-11e8-b2b8-ac1f6b6435d0</td>\n",
       "      <td>2</td>\n",
       "    </tr>\n",
       "    <tr>\n",
       "      <th>1</th>\n",
       "      <td>0000a892-bacf-11e8-b2b8-ac1f6b6435d0</td>\n",
       "      <td>5 25</td>\n",
       "    </tr>\n",
       "    <tr>\n",
       "      <th>2</th>\n",
       "      <td>0006faa6-bac7-11e8-b2b7-ac1f6b6435d0</td>\n",
       "      <td>0 5 25</td>\n",
       "    </tr>\n",
       "    <tr>\n",
       "      <th>3</th>\n",
       "      <td>0008baca-bad7-11e8-b2b9-ac1f6b6435d0</td>\n",
       "      <td>0 25</td>\n",
       "    </tr>\n",
       "    <tr>\n",
       "      <th>4</th>\n",
       "      <td>000cce7e-bad4-11e8-b2b8-ac1f6b6435d0</td>\n",
       "      <td>25</td>\n",
       "    </tr>\n",
       "  </tbody>\n",
       "</table>\n",
       "</div>"
      ],
      "text/plain": [
       "                                     Id Predicted\n",
       "0  00008af0-bad0-11e8-b2b8-ac1f6b6435d0         2\n",
       "1  0000a892-bacf-11e8-b2b8-ac1f6b6435d0      5 25\n",
       "2  0006faa6-bac7-11e8-b2b7-ac1f6b6435d0    0 5 25\n",
       "3  0008baca-bad7-11e8-b2b9-ac1f6b6435d0      0 25\n",
       "4  000cce7e-bad4-11e8-b2b8-ac1f6b6435d0        25"
      ]
     },
     "execution_count": 3,
     "metadata": {},
     "output_type": "execute_result"
    }
   ],
   "source": [
    "df_best = pd.read_csv(SUBMIT_FOLDER + '/' + 'submit_ensemble_3e79a0_revised.csv')\n",
    "df_best.head()"
   ]
  },
  {
   "cell_type": "code",
   "execution_count": 4,
   "metadata": {},
   "outputs": [
    {
     "data": {
      "text/html": [
       "<div>\n",
       "<style scoped>\n",
       "    .dataframe tbody tr th:only-of-type {\n",
       "        vertical-align: middle;\n",
       "    }\n",
       "\n",
       "    .dataframe tbody tr th {\n",
       "        vertical-align: top;\n",
       "    }\n",
       "\n",
       "    .dataframe thead th {\n",
       "        text-align: right;\n",
       "    }\n",
       "</style>\n",
       "<table border=\"1\" class=\"dataframe\">\n",
       "  <thead>\n",
       "    <tr style=\"text-align: right;\">\n",
       "      <th></th>\n",
       "      <th>Id</th>\n",
       "      <th>Predicted</th>\n",
       "    </tr>\n",
       "  </thead>\n",
       "  <tbody>\n",
       "    <tr>\n",
       "      <th>14</th>\n",
       "      <td>00407c16-bad3-11e8-b2b8-ac1f6b6435d0</td>\n",
       "      <td>NaN</td>\n",
       "    </tr>\n",
       "    <tr>\n",
       "      <th>44</th>\n",
       "      <td>00de1ab2-bad2-11e8-b2b8-ac1f6b6435d0</td>\n",
       "      <td>NaN</td>\n",
       "    </tr>\n",
       "    <tr>\n",
       "      <th>45</th>\n",
       "      <td>00deeaca-bada-11e8-b2b9-ac1f6b6435d0</td>\n",
       "      <td>NaN</td>\n",
       "    </tr>\n",
       "    <tr>\n",
       "      <th>47</th>\n",
       "      <td>00e00578-baca-11e8-b2b8-ac1f6b6435d0</td>\n",
       "      <td>NaN</td>\n",
       "    </tr>\n",
       "    <tr>\n",
       "      <th>48</th>\n",
       "      <td>00e00666-badb-11e8-b2b9-ac1f6b6435d0</td>\n",
       "      <td>NaN</td>\n",
       "    </tr>\n",
       "  </tbody>\n",
       "</table>\n",
       "</div>"
      ],
      "text/plain": [
       "                                      Id Predicted\n",
       "14  00407c16-bad3-11e8-b2b8-ac1f6b6435d0       NaN\n",
       "44  00de1ab2-bad2-11e8-b2b8-ac1f6b6435d0       NaN\n",
       "45  00deeaca-bada-11e8-b2b9-ac1f6b6435d0       NaN\n",
       "47  00e00578-baca-11e8-b2b8-ac1f6b6435d0       NaN\n",
       "48  00e00666-badb-11e8-b2b9-ac1f6b6435d0       NaN"
      ]
     },
     "execution_count": 4,
     "metadata": {},
     "output_type": "execute_result"
    }
   ],
   "source": [
    "df_null = df_best.loc[df_best['Predicted'].isnull()]\n",
    "df_null.head()"
   ]
  },
  {
   "cell_type": "code",
   "execution_count": 5,
   "metadata": {},
   "outputs": [
    {
     "name": "stdout",
     "output_type": "stream",
     "text": [
      "0 -> submit_model_kf4_6f1a27.csv\n",
      "1 -> submit_model_a966cd.csv\n",
      "2 -> submit_model_kf4_b1a73d.csv\n",
      "3 -> submit_model_kf1_417591.csv\n",
      "4 -> submit_model_kf4_b58461.csv\n",
      "5 -> submit_model_kf2_155691.csv\n"
     ]
    }
   ],
   "source": [
    "#pred_list = [f for f in os.listdir(SUBMIT_FOLDER)]\n",
    "pred_list = [\n",
    "    'submit_model_kf4_6f1a27.csv',\n",
    "    'submit_model_a966cd.csv',\n",
    "    'submit_model_kf4_b1a73d.csv',\n",
    "    'submit_model_kf1_417591.csv',\n",
    "    'submit_model_kf4_b58461.csv',\n",
    "    'submit_model_kf2_155691.csv'\n",
    "]\n",
    "\n",
    "#pred_list = ['submit_model_a966cd.csv', 'submit_model_kf4_6f1a27.csv','submit_model_kf4_b1a73d.csv']\n",
    "for i in range(len(pred_list)):\n",
    "    print ('{} -> {}'.format(i, pred_list[i]))"
   ]
  },
  {
   "cell_type": "code",
   "execution_count": 6,
   "metadata": {},
   "outputs": [
    {
     "data": {
      "text/html": [
       "<div>\n",
       "<style scoped>\n",
       "    .dataframe tbody tr th:only-of-type {\n",
       "        vertical-align: middle;\n",
       "    }\n",
       "\n",
       "    .dataframe tbody tr th {\n",
       "        vertical-align: top;\n",
       "    }\n",
       "\n",
       "    .dataframe thead th {\n",
       "        text-align: right;\n",
       "    }\n",
       "</style>\n",
       "<table border=\"1\" class=\"dataframe\">\n",
       "  <thead>\n",
       "    <tr style=\"text-align: right;\">\n",
       "      <th></th>\n",
       "      <th>Id</th>\n",
       "      <th>Predicted_x</th>\n",
       "      <th>Predicted_y</th>\n",
       "      <th>Predicted_x</th>\n",
       "      <th>Predicted_y</th>\n",
       "      <th>Predicted_x</th>\n",
       "      <th>Predicted_y</th>\n",
       "      <th>Predicted</th>\n",
       "    </tr>\n",
       "  </thead>\n",
       "  <tbody>\n",
       "    <tr>\n",
       "      <th>0</th>\n",
       "      <td>00407c16-bad3-11e8-b2b8-ac1f6b6435d0</td>\n",
       "      <td>NaN</td>\n",
       "      <td>NaN</td>\n",
       "      <td>25</td>\n",
       "      <td>NaN</td>\n",
       "      <td>0 25</td>\n",
       "      <td>NaN</td>\n",
       "      <td>15 25</td>\n",
       "    </tr>\n",
       "    <tr>\n",
       "      <th>1</th>\n",
       "      <td>00de1ab2-bad2-11e8-b2b8-ac1f6b6435d0</td>\n",
       "      <td>NaN</td>\n",
       "      <td>NaN</td>\n",
       "      <td>NaN</td>\n",
       "      <td>NaN</td>\n",
       "      <td>25</td>\n",
       "      <td>NaN</td>\n",
       "      <td>15 17 25</td>\n",
       "    </tr>\n",
       "    <tr>\n",
       "      <th>2</th>\n",
       "      <td>00deeaca-bada-11e8-b2b9-ac1f6b6435d0</td>\n",
       "      <td>NaN</td>\n",
       "      <td>NaN</td>\n",
       "      <td>NaN</td>\n",
       "      <td>23</td>\n",
       "      <td>NaN</td>\n",
       "      <td>NaN</td>\n",
       "      <td>15</td>\n",
       "    </tr>\n",
       "    <tr>\n",
       "      <th>3</th>\n",
       "      <td>00e00578-baca-11e8-b2b8-ac1f6b6435d0</td>\n",
       "      <td>NaN</td>\n",
       "      <td>NaN</td>\n",
       "      <td>0</td>\n",
       "      <td>NaN</td>\n",
       "      <td>0</td>\n",
       "      <td>25</td>\n",
       "      <td>15 25</td>\n",
       "    </tr>\n",
       "    <tr>\n",
       "      <th>4</th>\n",
       "      <td>00e00666-badb-11e8-b2b9-ac1f6b6435d0</td>\n",
       "      <td>NaN</td>\n",
       "      <td>6</td>\n",
       "      <td>6 11</td>\n",
       "      <td>6</td>\n",
       "      <td>6</td>\n",
       "      <td>11</td>\n",
       "      <td>6 15</td>\n",
       "    </tr>\n",
       "  </tbody>\n",
       "</table>\n",
       "</div>"
      ],
      "text/plain": [
       "                                     Id Predicted_x Predicted_y Predicted_x  \\\n",
       "0  00407c16-bad3-11e8-b2b8-ac1f6b6435d0         NaN         NaN          25   \n",
       "1  00de1ab2-bad2-11e8-b2b8-ac1f6b6435d0         NaN         NaN         NaN   \n",
       "2  00deeaca-bada-11e8-b2b9-ac1f6b6435d0         NaN         NaN         NaN   \n",
       "3  00e00578-baca-11e8-b2b8-ac1f6b6435d0         NaN         NaN           0   \n",
       "4  00e00666-badb-11e8-b2b9-ac1f6b6435d0         NaN           6        6 11   \n",
       "\n",
       "  Predicted_y Predicted_x Predicted_y Predicted  \n",
       "0         NaN        0 25         NaN     15 25  \n",
       "1         NaN          25         NaN  15 17 25  \n",
       "2          23         NaN         NaN        15  \n",
       "3         NaN           0          25     15 25  \n",
       "4           6           6          11      6 15  "
      ]
     },
     "execution_count": 6,
     "metadata": {},
     "output_type": "execute_result"
    }
   ],
   "source": [
    "df_join = df_null\n",
    "for p in pred_list[:10]:\n",
    "    df = pd.read_csv(SUBMIT_FOLDER + '/' + p)\n",
    "    df_join = pd.merge(df_join, df, how='inner', on='Id')\n",
    "df_join.head()"
   ]
  },
  {
   "cell_type": "code",
   "execution_count": 7,
   "metadata": {},
   "outputs": [
    {
     "data": {
      "text/html": [
       "<div>\n",
       "<style scoped>\n",
       "    .dataframe tbody tr th:only-of-type {\n",
       "        vertical-align: middle;\n",
       "    }\n",
       "\n",
       "    .dataframe tbody tr th {\n",
       "        vertical-align: top;\n",
       "    }\n",
       "\n",
       "    .dataframe thead th {\n",
       "        text-align: right;\n",
       "    }\n",
       "</style>\n",
       "<table border=\"1\" class=\"dataframe\">\n",
       "  <thead>\n",
       "    <tr style=\"text-align: right;\">\n",
       "      <th></th>\n",
       "      <th>Id</th>\n",
       "      <th>Predicted_x</th>\n",
       "      <th>Predicted_y</th>\n",
       "    </tr>\n",
       "  </thead>\n",
       "  <tbody>\n",
       "    <tr>\n",
       "      <th>0</th>\n",
       "      <td>00407c16-bad3-11e8-b2b8-ac1f6b6435d0</td>\n",
       "      <td>NaN</td>\n",
       "      <td>15 25</td>\n",
       "    </tr>\n",
       "    <tr>\n",
       "      <th>1</th>\n",
       "      <td>00de1ab2-bad2-11e8-b2b8-ac1f6b6435d0</td>\n",
       "      <td>NaN</td>\n",
       "      <td>15 17 25</td>\n",
       "    </tr>\n",
       "    <tr>\n",
       "      <th>2</th>\n",
       "      <td>00deeaca-bada-11e8-b2b9-ac1f6b6435d0</td>\n",
       "      <td>NaN</td>\n",
       "      <td>15</td>\n",
       "    </tr>\n",
       "    <tr>\n",
       "      <th>3</th>\n",
       "      <td>00e00578-baca-11e8-b2b8-ac1f6b6435d0</td>\n",
       "      <td>NaN</td>\n",
       "      <td>15 25</td>\n",
       "    </tr>\n",
       "    <tr>\n",
       "      <th>4</th>\n",
       "      <td>00e00666-badb-11e8-b2b9-ac1f6b6435d0</td>\n",
       "      <td>NaN</td>\n",
       "      <td>6 15</td>\n",
       "    </tr>\n",
       "  </tbody>\n",
       "</table>\n",
       "</div>"
      ],
      "text/plain": [
       "                                     Id Predicted_x Predicted_y\n",
       "0  00407c16-bad3-11e8-b2b8-ac1f6b6435d0         NaN       15 25\n",
       "1  00de1ab2-bad2-11e8-b2b8-ac1f6b6435d0         NaN    15 17 25\n",
       "2  00deeaca-bada-11e8-b2b9-ac1f6b6435d0         NaN          15\n",
       "3  00e00578-baca-11e8-b2b8-ac1f6b6435d0         NaN       15 25\n",
       "4  00e00666-badb-11e8-b2b9-ac1f6b6435d0         NaN        6 15"
      ]
     },
     "execution_count": 7,
     "metadata": {},
     "output_type": "execute_result"
    }
   ],
   "source": [
    "df_join = pd.merge(df_null, df, how='inner', on='Id')\n",
    "df_join.head()"
   ]
  },
  {
   "cell_type": "code",
   "execution_count": 8,
   "metadata": {},
   "outputs": [
    {
     "data": {
      "text/html": [
       "<div>\n",
       "<style scoped>\n",
       "    .dataframe tbody tr th:only-of-type {\n",
       "        vertical-align: middle;\n",
       "    }\n",
       "\n",
       "    .dataframe tbody tr th {\n",
       "        vertical-align: top;\n",
       "    }\n",
       "\n",
       "    .dataframe thead th {\n",
       "        text-align: right;\n",
       "    }\n",
       "</style>\n",
       "<table border=\"1\" class=\"dataframe\">\n",
       "  <thead>\n",
       "    <tr style=\"text-align: right;\">\n",
       "      <th></th>\n",
       "      <th>Id</th>\n",
       "      <th>Predicted_x</th>\n",
       "      <th>Predicted_y</th>\n",
       "    </tr>\n",
       "  </thead>\n",
       "  <tbody>\n",
       "    <tr>\n",
       "      <th>0</th>\n",
       "      <td>00407c16-bad3-11e8-b2b8-ac1f6b6435d0</td>\n",
       "      <td>15 25</td>\n",
       "      <td>15 25</td>\n",
       "    </tr>\n",
       "    <tr>\n",
       "      <th>1</th>\n",
       "      <td>00de1ab2-bad2-11e8-b2b8-ac1f6b6435d0</td>\n",
       "      <td>15 17 25</td>\n",
       "      <td>15 17 25</td>\n",
       "    </tr>\n",
       "    <tr>\n",
       "      <th>2</th>\n",
       "      <td>00deeaca-bada-11e8-b2b9-ac1f6b6435d0</td>\n",
       "      <td>15</td>\n",
       "      <td>15</td>\n",
       "    </tr>\n",
       "    <tr>\n",
       "      <th>3</th>\n",
       "      <td>00e00578-baca-11e8-b2b8-ac1f6b6435d0</td>\n",
       "      <td>15 25</td>\n",
       "      <td>15 25</td>\n",
       "    </tr>\n",
       "    <tr>\n",
       "      <th>4</th>\n",
       "      <td>00e00666-badb-11e8-b2b9-ac1f6b6435d0</td>\n",
       "      <td>6 15</td>\n",
       "      <td>6 15</td>\n",
       "    </tr>\n",
       "  </tbody>\n",
       "</table>\n",
       "</div>"
      ],
      "text/plain": [
       "                                     Id Predicted_x Predicted_y\n",
       "0  00407c16-bad3-11e8-b2b8-ac1f6b6435d0       15 25       15 25\n",
       "1  00de1ab2-bad2-11e8-b2b8-ac1f6b6435d0    15 17 25    15 17 25\n",
       "2  00deeaca-bada-11e8-b2b9-ac1f6b6435d0          15          15\n",
       "3  00e00578-baca-11e8-b2b8-ac1f6b6435d0       15 25       15 25\n",
       "4  00e00666-badb-11e8-b2b9-ac1f6b6435d0        6 15        6 15"
      ]
     },
     "execution_count": 8,
     "metadata": {},
     "output_type": "execute_result"
    }
   ],
   "source": [
    "df_join['Predicted_x'].fillna(df_join['Predicted_y'], inplace=True)\n",
    "df_join.head()"
   ]
  },
  {
   "cell_type": "code",
   "execution_count": 9,
   "metadata": {},
   "outputs": [
    {
     "name": "stdout",
     "output_type": "stream",
     "text": [
      "(28,)\n",
      "[0. 0. 1. 0. 0. 0. 0. 0. 0. 0. 0. 0. 0. 0. 0. 0. 0. 0. 0. 0. 0. 0. 0. 0.\n",
      " 0. 0. 0. 0.]\n"
     ]
    }
   ],
   "source": [
    "def make_label_array (labels):\n",
    "\n",
    "    # set up a numpy array to receive the encoded label\n",
    "    label_array = np.zeros(28)\n",
    "\n",
    "    if isinstance(labels, str):\n",
    "    \n",
    "        # split the space separated multi-label into a list of individual labels\n",
    "        split_label = labels.split(' ')\n",
    "\n",
    "        # turn on the positive columns in the labels array\n",
    "        for label in split_label:\n",
    "            label_array[np.uint8(label)] = 1\n",
    "    \n",
    "    return label_array\n",
    "    \n",
    "# unit test \n",
    "la = make_label_array(df_best['Predicted'][0])\n",
    "print(la.shape)\n",
    "print(la)\n"
   ]
  },
  {
   "cell_type": "code",
   "execution_count": 10,
   "metadata": {},
   "outputs": [
    {
     "name": "stdout",
     "output_type": "stream",
     "text": [
      "2\n",
      "[0. 0. 1. 0. 0. 0. 0. 0. 0. 0. 0. 0. 0. 0. 0. 0. 0. 0. 0. 0. 0. 0. 0. 0.\n",
      " 0. 0. 0. 0.]\n",
      "2\n",
      "[0. 0. 1. 0. 0. 0. 0. 0. 0. 0. 0. 0. 0. 0. 0. 0. 0. 0. 0. 0. 0. 0. 0. 0.\n",
      " 0. 0. 0. 0.]\n",
      "2\n",
      "[0. 0. 1. 0. 0. 0. 0. 0. 0. 0. 0. 0. 0. 0. 0. 0. 0. 0. 0. 0. 0. 0. 0. 0.\n",
      " 0. 0. 0. 0.]\n",
      "2\n",
      "[0. 0. 1. 0. 0. 0. 0. 0. 0. 0. 0. 0. 0. 0. 0. 0. 0. 0. 0. 0. 0. 0. 0. 0.\n",
      " 0. 0. 0. 0.]\n",
      "2\n",
      "[0. 0. 1. 0. 0. 0. 0. 0. 0. 0. 0. 0. 0. 0. 0. 0. 0. 0. 0. 0. 0. 0. 0. 0.\n",
      " 0. 0. 0. 0.]\n",
      "2 15\n",
      "[0. 0. 1. 0. 0. 0. 0. 0. 0. 0. 0. 0. 0. 0. 0. 1. 0. 0. 0. 0. 0. 0. 0. 0.\n",
      " 0. 0. 0. 0.]\n",
      "2 27\n",
      "[0. 0. 1. 0. 0. 0. 0. 0. 0. 0. 0. 0. 0. 0. 0. 0. 0. 0. 0. 0. 0. 0. 0. 0.\n",
      " 0. 0. 0. 1.]\n"
     ]
    }
   ],
   "source": [
    "pred_list = [\n",
    "    'submit_model_kf4_6f1a27.csv',\n",
    "    'submit_model_a966cd.csv',\n",
    "    'submit_model_kf4_b1a73d.csv',\n",
    "    'submit_model_kf1_417591.csv',\n",
    "    'submit_model_kf4_b58461.csv',\n",
    "    'submit_model_kf2_155691.csv',\n",
    "    'submit_model_kf3_60f138.csv'\n",
    "]\n",
    "\n",
    "for p in pred_list:\n",
    "    this_prediction = np.zeros(28)\n",
    "    df = pd.read_csv(SUBMIT_FOLDER + '/' + p)   \n",
    "    print(df['Predicted'][0])\n",
    "    this_prediction = make_label_array(df['Predicted'][0])\n",
    "    print(this_prediction)\n",
    "#    sum_of_predictions += this_prediction\n"
   ]
  },
  {
   "cell_type": "code",
   "execution_count": 11,
   "metadata": {},
   "outputs": [
    {
     "name": "stderr",
     "output_type": "stream",
     "text": [
      "100%|██████████| 11702/11702 [00:25<00:00, 459.64it/s]\n"
     ]
    }
   ],
   "source": [
    "pred_list = [\n",
    "    'submit_model_kf4_6f1a27.csv',\n",
    "    'submit_model_a966cd.csv',\n",
    "    'submit_model_kf4_b1a73d.csv',\n",
    "    'submit_model_kf1_417591.csv',\n",
    "    'submit_model_kf4_b58461.csv'\n",
    "]\n",
    "\n",
    "# loop through each prediction\n",
    "for i in tqdm(range(len(df_best))):\n",
    "    \n",
    "    # if the prediction is null\n",
    "    if not type(df_best['Predicted'][i]) is str:\n",
    "        \n",
    "        # set up an array to sum up the value of predictions\n",
    "        sum_of_predictions = np.zeros(28)\n",
    "        \n",
    "        # loop through each prediction set, convert to a numpy array, sum up the votes\n",
    "        for p in pred_list:\n",
    "            this_prediction = np.zeros(28)\n",
    "            df = pd.read_csv(SUBMIT_FOLDER + '/' + p)   \n",
    "            this_prediction = make_label_array(df['Predicted'][i])\n",
    "            sum_of_predictions += this_prediction\n",
    "        \n",
    "        # set up the prediction string\n",
    "        predict_str = ''\n",
    "        for j in range(sum_of_predictions.shape[0]):\n",
    "                if sum_of_predictions[j] > 1:\n",
    "                    predict_str += str(j) + ' '\n",
    "        if type(predict_str) is str: \n",
    "            df_best['Predicted'][i] = predict_str.strip()"
   ]
  },
  {
   "cell_type": "code",
   "execution_count": 12,
   "metadata": {},
   "outputs": [
    {
     "name": "stdout",
     "output_type": "stream",
     "text": [
      "0\n"
     ]
    }
   ],
   "source": [
    "df_null = df_best.loc[df_best['Predicted'].isnull()]\n",
    "print(len(df_null))\n",
    "#df_null.head()"
   ]
  },
  {
   "cell_type": "code",
   "execution_count": 13,
   "metadata": {},
   "outputs": [
    {
     "data": {
      "text/html": [
       "<div>\n",
       "<style scoped>\n",
       "    .dataframe tbody tr th:only-of-type {\n",
       "        vertical-align: middle;\n",
       "    }\n",
       "\n",
       "    .dataframe tbody tr th {\n",
       "        vertical-align: top;\n",
       "    }\n",
       "\n",
       "    .dataframe thead th {\n",
       "        text-align: right;\n",
       "    }\n",
       "</style>\n",
       "<table border=\"1\" class=\"dataframe\">\n",
       "  <thead>\n",
       "    <tr style=\"text-align: right;\">\n",
       "      <th></th>\n",
       "      <th>Id</th>\n",
       "      <th>Predicted</th>\n",
       "    </tr>\n",
       "  </thead>\n",
       "  <tbody>\n",
       "    <tr>\n",
       "      <th>11558</th>\n",
       "      <td>fcfaae16-bacb-11e8-b2b8-ac1f6b6435d0</td>\n",
       "      <td>0 21 25</td>\n",
       "    </tr>\n",
       "  </tbody>\n",
       "</table>\n",
       "</div>"
      ],
      "text/plain": [
       "                                         Id Predicted\n",
       "11558  fcfaae16-bacb-11e8-b2b8-ac1f6b6435d0   0 21 25"
      ]
     },
     "execution_count": 13,
     "metadata": {},
     "output_type": "execute_result"
    }
   ],
   "source": [
    "df_best[df_best['Id'] == 'fcfaae16-bacb-11e8-b2b8-ac1f6b6435d0']"
   ]
  },
  {
   "cell_type": "code",
   "execution_count": 14,
   "metadata": {},
   "outputs": [],
   "source": [
    "df_best.to_csv(SUBMIT_FOLDER + '/' + 'submit_ensemble_3e79a0_voting.csv', index=False)"
   ]
  },
  {
   "cell_type": "code",
   "execution_count": null,
   "metadata": {},
   "outputs": [],
   "source": []
  }
 ],
 "metadata": {
  "kernelspec": {
   "display_name": "Python 3",
   "language": "python",
   "name": "python3"
  },
  "language_info": {
   "codemirror_mode": {
    "name": "ipython",
    "version": 3
   },
   "file_extension": ".py",
   "mimetype": "text/x-python",
   "name": "python",
   "nbconvert_exporter": "python",
   "pygments_lexer": "ipython3",
   "version": "3.6.5"
  }
 },
 "nbformat": 4,
 "nbformat_minor": 2
}
